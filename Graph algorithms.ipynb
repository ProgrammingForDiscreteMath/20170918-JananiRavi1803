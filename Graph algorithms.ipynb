{
 "cells": [
  {
   "cell_type": "markdown",
   "metadata": {
    "deletable": true,
    "editable": true
   },
   "source": [
    "# Graph Algorithms\n",
    "\n",
    "## Representing graphs\n",
    "\n",
    "Here are some ways of specifying a graph:\n",
    "\n",
    "1. From a list of edges\n",
    "2. From its adjacency matrix\n",
    "3. From its incidence matrix\n",
    "4. Using a Boolean function\n",
    "\n",
    "Let us use these four methods to construct the cycle graph with ten vertices."
   ]
  },
  {
   "cell_type": "code",
   "execution_count": 28,
   "metadata": {
    "collapsed": false,
    "deletable": true,
    "editable": true
   },
   "outputs": [],
   "source": [
    "# From a list of edges\n",
    "G1 = Graph([(i, (i+1)%10) for i in range(10)])\n",
    "\n",
    "# From adjacency matrix\n",
    "A = Matrix(ZZ, 10, 10)\n",
    "for i in range(1, 9):\n",
    "    A[i, i+1] = 1\n",
    "    A[i, i-1] = 1\n",
    "A[9, 0] = 1\n",
    "A[9, 8] = 1\n",
    "A[0, 9] = 1\n",
    "A[0, 1] = 1\n",
    "G2 = Graph(A, format='adjacency_matrix')\n",
    "\n",
    "# From incidence matrix\n",
    "A = Matrix(ZZ, 10, 10)\n",
    "for i in range(9):\n",
    "    A[i, i] = 1\n",
    "    A[i, i+1] = 1\n",
    "A[9, 0] = 1\n",
    "A[9, 9] = 1\n",
    "G3 = Graph(A, format='incidence_matrix')\n",
    "\n",
    "# From Boolean function\n",
    "G4 = Graph([range(10), lambda i,j: abs(j-i) == 1 or (i==9 and j==0) or (i==0 and j==9)])"
   ]
  },
  {
   "cell_type": "markdown",
   "metadata": {
    "deletable": true,
    "editable": true
   },
   "source": [
    "If the entries of the adjacency matrix are specified, then amount of space needed to define a graph with $V$ vertices is $V^2$. This kind of specification is called a *dense graph*.\n",
    "\n",
    "If a list of $V$ vertices and $E$ edges is provided, then the amount of space needed to define the graph is roughly $V + E$. This kind of specification is called a *sparse graph*.\n",
    "\n",
    "In general, if there are very few edges, sparse graph representations are used; otherwise dense graph representations are used."
   ]
  },
  {
   "cell_type": "code",
   "execution_count": null,
   "metadata": {
    "collapsed": true,
    "deletable": true,
    "editable": true
   },
   "outputs": [],
   "source": []
  }
 ],
 "metadata": {
  "kernelspec": {
   "display_name": "SageMath 8.0",
   "language": "",
   "name": "sagemath"
  },
  "language_info": {
   "codemirror_mode": {
    "name": "ipython",
    "version": 2
   },
   "file_extension": ".py",
   "mimetype": "text/x-python",
   "name": "python",
   "nbconvert_exporter": "python",
   "pygments_lexer": "ipython2",
   "version": "2.7.13"
  }
 },
 "nbformat": 4,
 "nbformat_minor": 2
}
